{
 "cells": [
  {
   "cell_type": "code",
   "execution_count": null,
   "id": "f4305613-ec2c-49de-87a8-27fb7f953d5a",
   "metadata": {},
   "outputs": [],
   "source": [
    "Q1. What are Eigenvalues and Eigenvectors? How are they related to the Eigen-Decomposition approach?\n",
    "Explain with an example."
   ]
  },
  {
   "cell_type": "markdown",
   "id": "14d997ab-666c-426b-b7e5-3741a4792a70",
   "metadata": {},
   "source": [
    "NAS -"
   ]
  },
  {
   "cell_type": "code",
   "execution_count": null,
   "id": "0402f72d-4c67-40c8-8db3-09bcc522b7e6",
   "metadata": {},
   "outputs": [],
   "source": [
    "Eigenvalues and eigenvectors are numbers and vectors associated with square matrices. Together they provide the eigen-decomposition of a\n",
    "matrix which analyzes the structure of this matrix1. Eigenvectors and eigenvalues are also referred to as characteristic vectors and \n",
    "latent roots or characteristic equation. The set of eigen-values of a matrix is also called its spectrum.\n",
    "\n",
    "Eigenvalues are scalar values that are used to transform an n-dimensional vector space. Eigenvectors are vectors that do not change \n",
    "direction when a linear transformation is applied to them. They only change in magnitude.\n",
    "\n",
    "The eigen-decomposition approach is a method of decomposing a square matrix into its eigenvalues and eigenvectors. \n",
    "It is used in many applications such as principal component analysis.\n",
    "\n",
    "For example, let’s consider the following matrix A:"
   ]
  },
  {
   "cell_type": "code",
   "execution_count": null,
   "id": "dad7a1de-799e-4544-a976-b206ce707b06",
   "metadata": {},
   "outputs": [],
   "source": [
    "A = [3 4]\n",
    "    [2 1]"
   ]
  },
  {
   "cell_type": "code",
   "execution_count": null,
   "id": "81389f71-94fc-4b19-9aff-f1e98601850d",
   "metadata": {},
   "outputs": [],
   "source": [
    "The eigenvalues of A can be found by solving the characteristic equation det(A - lambdaI) = 0 where I is the identity matrix and λ is an\n",
    "eigenvalue.\n",
    "The eigenvectors can be found by solving the equation (A - λI)x = 0 where x is an eigenvector corresponding to the eigenvalue λ.\n",
    "\n",
    "The eigenvalues of A are λ1 = 5 and λ2 = -1. The corresponding eigenvectors are x1 = [4 1]T and x2 = [-2 1]T respectively."
   ]
  },
  {
   "cell_type": "code",
   "execution_count": null,
   "id": "c6d3723b-84aa-4b1c-8074-4c9c3668b5e5",
   "metadata": {},
   "outputs": [],
   "source": []
  },
  {
   "cell_type": "code",
   "execution_count": null,
   "id": "38d74259-b4ce-4ac1-aeee-f0fb7136ebce",
   "metadata": {},
   "outputs": [],
   "source": [
    "Q2. What is eigen decomposition and what is its significance in linear algebra?"
   ]
  },
  {
   "cell_type": "markdown",
   "id": "2ad05cdf-f1ab-4bca-be49-45f00308ddd6",
   "metadata": {},
   "source": [
    "ANS -"
   ]
  },
  {
   "cell_type": "code",
   "execution_count": null,
   "id": "61a197fc-bdd2-4f77-87a9-968b69f9b779",
   "metadata": {},
   "outputs": [],
   "source": [
    "Eigen decomposition is a factorization of a matrix into a canonical form. The matrix is denoted in terms of its eigenvalues and eigenvectors.\n",
    "Only diagonalizable matrices can be factorized in this way. \n",
    "Eigendecomposition is very important in linear algebra as it is used to solve systems of differential equations, differential equations\n",
    "with constant coefficients, and many other problems."
   ]
  },
  {
   "cell_type": "code",
   "execution_count": null,
   "id": "f11ed9a0-4ec8-489a-969a-8a6bc23ce1e1",
   "metadata": {},
   "outputs": [],
   "source": []
  },
  {
   "cell_type": "code",
   "execution_count": null,
   "id": "88f5fc4e-17b8-4c5c-968c-811973c4c605",
   "metadata": {},
   "outputs": [],
   "source": [
    "Q3. What are the conditions that must be satisfied for a square matrix to be diagonalizable using the\n",
    "Eigen-Decomposition approach? Provide a brief proof to support your answer."
   ]
  },
  {
   "cell_type": "markdown",
   "id": "5cb714a7-7cfe-40db-bb1c-03d3c5ad9f21",
   "metadata": {},
   "source": [
    "ANS -"
   ]
  },
  {
   "cell_type": "code",
   "execution_count": null,
   "id": "314c6c38-ac16-4929-95be-4e50392f3da7",
   "metadata": {},
   "outputs": [],
   "source": [
    "A square matrix is diagonalizable if and only if it has n linearly independent eigenvectors. In other words, a square matrix A is \n",
    "diagonalizable if and only if there exists an invertible matrix P and a diagonal matrix D such that A = PDP^-1 where D is the\n",
    "diagonal matrix whose diagonal entries are the eigenvalues of A and P is the matrix whose columns are the corresponding eigenvectors of A.\n",
    "\n",
    "The proof for this statement can be found in many linear algebra textbooks. Here is a brief proof: Let A be an n x n matrix with n\n",
    "distinct eigenvalues λ1, λ2, ..., λn and corresponding eigenvectors v1, v2, ..., vn. Since the eigenvectors are linearly independent,\n",
    "they form a basis for R^n. Let P be the matrix whose columns are the eigenvectors of A.\n",
    "Then P is invertible since its columns are linearly independent. We have AP = PD where D is the diagonal matrix whose diagonal entries are \n",
    "the eigenvalues of A. Multiplying both sides by P^-1 gives A = PDP^-1."
   ]
  },
  {
   "cell_type": "code",
   "execution_count": null,
   "id": "0b082850-bcd3-4b3b-bd36-2d43b720e85a",
   "metadata": {},
   "outputs": [],
   "source": []
  },
  {
   "cell_type": "code",
   "execution_count": null,
   "id": "33fc23d8-2491-4511-b4ac-d387d824d5f6",
   "metadata": {},
   "outputs": [],
   "source": [
    "Q4. What is the significance of the spectral theorem in the context of the Eigen-Decomposition approach?\n",
    "How is it related to the diagonalizability of a matrix? Explain with an example."
   ]
  },
  {
   "cell_type": "markdown",
   "id": "60266252-15a1-4c21-bcad-11793415ef23",
   "metadata": {},
   "source": [
    "ANS -"
   ]
  },
  {
   "cell_type": "code",
   "execution_count": null,
   "id": "7fd0b27e-69d5-463e-b9ff-92fb28c6ba12",
   "metadata": {},
   "outputs": [],
   "source": [
    "The Spectral Theorem is a fundamental theorem in linear algebra that states that every normal matrix can be diagonalized by a complete set\n",
    "of orthonormal eigenvectors. The eigenvalues are often referred to as the spectrum of a matrix.\n",
    "\n",
    "In the context of the Eigen-Decomposition approach, the Spectral Theorem is used to diagonalize a matrix. A matrix is diagonalizable if it\n",
    "has a full set of linearly independent eigenvectors. The Spectral Theorem tells us that if a matrix is normal, then it can be diagonalized\n",
    "by a complete set of orthonormal eigenvectors.\n",
    "\n",
    "For example, consider the matrix A = [1 2; 2 1]. The eigenvalues of A are λ1 = 3 and λ2 = -1. The corresponding eigenvectors are\n",
    "v1 = [1; 1] and v2 = [-1; 1].\n",
    "We can normalize these eigenvectors to obtain the orthonormal eigenvectors u1 = [sqrt(2)/2; sqrt(2)/2] and u2 = [-sqrt(2)/2; sqrt(2)/2].\n",
    "We can then form the diagonal matrix D = [3 0; 0 -1] and the matrix P = [u1 u2] to obtain A = PDP^-1."
   ]
  },
  {
   "cell_type": "code",
   "execution_count": null,
   "id": "17e0e7e8-02d6-45d2-a7f1-3787d2653406",
   "metadata": {},
   "outputs": [],
   "source": []
  },
  {
   "cell_type": "code",
   "execution_count": null,
   "id": "fc1deb5e-a2f0-4014-aa34-c2a5e2404d55",
   "metadata": {},
   "outputs": [],
   "source": [
    "Q5. How do you find the eigenvalues of a matrix and what do they represent?"
   ]
  },
  {
   "cell_type": "markdown",
   "id": "637f9753-8b83-4593-9dbf-fe51f813e7de",
   "metadata": {},
   "source": [
    "ANS -"
   ]
  },
  {
   "cell_type": "code",
   "execution_count": null,
   "id": "6aa55d07-0cab-40f4-a76e-472c1a844e8a",
   "metadata": {},
   "outputs": [],
   "source": [
    "Eigenvalues of a matrix are scalar values that are associated with linear equations or transformations of vectors. \n",
    "Eigenvalues have the property that there is some non-zero vector (eigenvector) which when multiplied by the matrix is equal to the \n",
    "vector multiplied by the scalar. Eigenvalues are important because they determine the eigendirections of the matrix and simplify its\n",
    "expression in a basis.\n",
    "\n",
    "In other words, eigenvalues are the values that satisfy the equation Ax = λx where A is a square matrix,\n",
    "λ is an eigenvalue and x is an eigenvector.\n",
    "\n",
    "Eigenvalues can be found by solving the characteristic equation det(A-λI) = 0 where A is a square matrix and I is an identity matrix of \n",
    "the same size as A.\n",
    "\n",
    "Eigenvalues represent how much a transformation stretches or shrinks a vector in each eigendirection. \n",
    "They also help in diagonalizing a matrix which makes it easier to compute powers of matrices and exponentials of matrices. "
   ]
  },
  {
   "cell_type": "code",
   "execution_count": null,
   "id": "d49264f9-cbc5-4cd6-a645-50f90222968c",
   "metadata": {},
   "outputs": [],
   "source": []
  },
  {
   "cell_type": "code",
   "execution_count": null,
   "id": "f51b51b7-7cb8-4ab3-aa43-1b620c99be22",
   "metadata": {},
   "outputs": [],
   "source": [
    "Q6. What are eigenvectors and how are they related to eigenvalues?"
   ]
  },
  {
   "cell_type": "markdown",
   "id": "c48066da-c7a4-4fa2-8c4f-a0f48c5c2c1f",
   "metadata": {},
   "source": [
    "ANS -"
   ]
  },
  {
   "cell_type": "code",
   "execution_count": null,
   "id": "c435e152-7943-4b77-9bc5-3bf15ab03908",
   "metadata": {},
   "outputs": [],
   "source": [
    "Eigenvalues and eigenvectors are concepts in linear algebra that describe how a linear transformation affects a nonzero vector.\n",
    "An eigenvector is a vector that changes at most by a scalar factor when the transformation is applied to it.\n",
    "An eigenvalue is the scalar factor by which the eigenvector is scaled.\n",
    "The eigenvector points in the direction of the transformation, and the eigenvalue indicates the magnitude and sign of the transformation."
   ]
  },
  {
   "cell_type": "code",
   "execution_count": null,
   "id": "6edaf7e5-5c4f-4ebf-9b2b-03c277fe2dad",
   "metadata": {},
   "outputs": [],
   "source": []
  },
  {
   "cell_type": "code",
   "execution_count": null,
   "id": "8fe81060-5afb-472c-8cc5-610fb4b1c956",
   "metadata": {},
   "outputs": [],
   "source": [
    "Q7. Can you explain the geometric interpretation of eigenvectors and eigenvalues?"
   ]
  },
  {
   "cell_type": "markdown",
   "id": "b0314d0f-dd29-4386-b2ad-0d217a729c02",
   "metadata": {},
   "source": [
    "ANS -"
   ]
  },
  {
   "cell_type": "code",
   "execution_count": null,
   "id": "0758a8cf-dbfc-48f7-934e-20ffa1fd46c9",
   "metadata": {},
   "outputs": [],
   "source": [
    "Geometrically, an eigenvector, corresponding to a real nonzero eigenvalue, points in a direction in which it is stretched\n",
    "by the transformation and the eigenvalue is the factor by which it is stretched. If the eigenvalue is negative, the direction is reversed.\n",
    "\n",
    "Geometrically, an eigenvector is a direction in which a transformation stretches. \n",
    "The eigenvalue is the factor by which the eigenvector is stretched. If the eigenvalue is negative, the direction is reversed.\n",
    "An eigenvector is the axis on which the matrix operation hinges. \n",
    "The eigenvalue is how important it is, relative to the eigenvalues of other eigenvectors."
   ]
  },
  {
   "cell_type": "code",
   "execution_count": null,
   "id": "b035d131-bfd1-419c-b42f-bcb9d8210621",
   "metadata": {},
   "outputs": [],
   "source": []
  },
  {
   "cell_type": "code",
   "execution_count": null,
   "id": "f857353b-6f69-443e-b7c1-3d1fa4b53899",
   "metadata": {},
   "outputs": [],
   "source": [
    "Q8. What are some real-world applications of eigen decomposition?"
   ]
  },
  {
   "cell_type": "markdown",
   "id": "5d0c9717-b540-451c-ba04-66c6ed62b7cc",
   "metadata": {},
   "source": [
    "ANS -"
   ]
  },
  {
   "cell_type": "code",
   "execution_count": null,
   "id": "bc9ec64f-2f61-46c6-9c92-88693fe23491",
   "metadata": {},
   "outputs": [],
   "source": [
    "Eigen decomposition is a type of matrix decomposition that involves decomposing a square matrix into a set of eigenvectors and eigenvalues. \n",
    "Eigendecomposition is used as an element to simplify the calculation of other more complex matrix operations.\n",
    "\n",
    "Here are some real-world applications of eigen decomposition:\n",
    "\n",
    "1.Image compression: Singular value decomposition (SVD) is used for image compression.\n",
    "\n",
    "2.Communication systems: Claude Shannon utilized eigenvalues to calculate the theoretical limit of how much information can be carried via\n",
    "                         a communication channel such as a telephone line or the air.\n",
    "    \n",
    "3.Physics: Eigenvectors and eigenvalues are used in quantum mechanics and special relativity.\n",
    "\n",
    "4.Statistics: Principal component analysis (PCA) is a statistical technique that uses eigendecomposition to transform data into a new \n",
    "              coordinate system"
   ]
  },
  {
   "cell_type": "code",
   "execution_count": null,
   "id": "1df834f0-12b1-491c-b66f-501f6ac5b941",
   "metadata": {},
   "outputs": [],
   "source": []
  },
  {
   "cell_type": "code",
   "execution_count": null,
   "id": "10404246-79c8-4b5a-94a3-8fcd965cef26",
   "metadata": {},
   "outputs": [],
   "source": [
    "Q9. Can a matrix have more than one set of eigenvectors and eigenvalues?"
   ]
  },
  {
   "cell_type": "markdown",
   "id": "0e77cd47-3d4b-40e0-8055-14327b955dfe",
   "metadata": {},
   "source": [
    "ANS -"
   ]
  },
  {
   "cell_type": "code",
   "execution_count": null,
   "id": "97bb5640-30f0-42ab-b875-714a97f6614a",
   "metadata": {},
   "outputs": [],
   "source": [
    "Yes, a matrix can have more than one set of eigenvectors and eigenvalues. \n",
    "An eigenvector is a vector that does not change direction when multiplied by a matrix, but only changes its magnitude or sign.\n",
    "A matrix can have more than one eigenvector, but each eigenvector has a unique eigenvalue.\n",
    "If a matrix has more than one eigenvector, the associated eigenvalues can be different for the different eigenvectors."
   ]
  },
  {
   "cell_type": "code",
   "execution_count": null,
   "id": "33ef403c-1c82-42c0-8afe-b70361875ade",
   "metadata": {},
   "outputs": [],
   "source": []
  },
  {
   "cell_type": "code",
   "execution_count": null,
   "id": "38bb21de-3984-4ed9-9015-a3396be55268",
   "metadata": {},
   "outputs": [],
   "source": [
    "Q10. In what ways is the Eigen-Decomposition approach useful in data analysis and machine learning?\n",
    "Discuss at least three specific applications or techniques that rely on Eigen-Decomposition."
   ]
  },
  {
   "cell_type": "markdown",
   "id": "85a8a4d6-1ed1-4c1c-ad15-02f6dd99b09b",
   "metadata": {},
   "source": [
    "ANS -"
   ]
  },
  {
   "cell_type": "code",
   "execution_count": null,
   "id": "b4f1d877-5c04-46f6-81bc-c3da6a45e6aa",
   "metadata": {},
   "outputs": [],
   "source": [
    "Eigen-Decomposition is a matrix factorization technique that decomposes a matrix into its eigenvalues and eigenvectors. \n",
    "It is useful in data analysis and machine learning because it can be used to calculate the principal components of a matrix in the\n",
    "Principal Component Analysis method or PCA that can be used to reduce the dimensionality of data in machine learning.\n",
    "\n",
    "Here are three specific applications or techniques that rely on Eigen-Decomposition:\n",
    "\n",
    "1.Spectral Clustering: Spectral clustering is a clustering technique that uses Eigen-Decomposition to find the eigenvectors of the \n",
    "                       Laplacian matrix of a graph. The eigenvectors are then used to cluster the data points.\n",
    "    \n",
    "2.PageRank Algorithm: The PageRank algorithm is used by Google to rank web pages in their search engine results. \n",
    "                      It uses Eigen-Decomposition to calculate the importance of each web page based on the links between them.\n",
    "    \n",
    "3.Image Compression: Eigen-Decomposition can be used for image compression by reducing the dimensionality of an image while preserving \n",
    "                  its important features"
   ]
  },
  {
   "cell_type": "code",
   "execution_count": null,
   "id": "c63ecdff-c870-4985-8ab9-a9a8764e3b51",
   "metadata": {},
   "outputs": [],
   "source": []
  },
  {
   "cell_type": "code",
   "execution_count": null,
   "id": "606a7f37-0498-4a17-a984-df3deb5c0af1",
   "metadata": {},
   "outputs": [],
   "source": []
  },
  {
   "cell_type": "code",
   "execution_count": null,
   "id": "f45c4e1e-74a5-425f-a2d1-65a2a645e0c6",
   "metadata": {},
   "outputs": [],
   "source": []
  },
  {
   "cell_type": "code",
   "execution_count": null,
   "id": "30e8f21b-dffa-4888-9ebe-846291cbfe18",
   "metadata": {},
   "outputs": [],
   "source": []
  },
  {
   "cell_type": "code",
   "execution_count": null,
   "id": "a153391d-119c-4c82-b7af-e52c11e875a0",
   "metadata": {},
   "outputs": [],
   "source": []
  },
  {
   "cell_type": "code",
   "execution_count": null,
   "id": "98458e0a-c6d3-4fd7-88bc-f140f5c30e76",
   "metadata": {},
   "outputs": [],
   "source": []
  },
  {
   "cell_type": "code",
   "execution_count": null,
   "id": "b445fcfd-afdb-4d3c-97a5-ab2009780958",
   "metadata": {},
   "outputs": [],
   "source": []
  },
  {
   "cell_type": "code",
   "execution_count": null,
   "id": "0af17fc9-2eba-45ba-bd4d-436fddd07905",
   "metadata": {},
   "outputs": [],
   "source": []
  },
  {
   "cell_type": "code",
   "execution_count": null,
   "id": "4a7f6c65-2807-422f-b230-9135928e9122",
   "metadata": {},
   "outputs": [],
   "source": []
  },
  {
   "cell_type": "code",
   "execution_count": null,
   "id": "67516f1b-83dd-432e-b74e-7920fa5fbf40",
   "metadata": {},
   "outputs": [],
   "source": []
  }
 ],
 "metadata": {
  "kernelspec": {
   "display_name": "Python 3 (ipykernel)",
   "language": "python",
   "name": "python3"
  },
  "language_info": {
   "codemirror_mode": {
    "name": "ipython",
    "version": 3
   },
   "file_extension": ".py",
   "mimetype": "text/x-python",
   "name": "python",
   "nbconvert_exporter": "python",
   "pygments_lexer": "ipython3",
   "version": "3.10.8"
  }
 },
 "nbformat": 4,
 "nbformat_minor": 5
}
